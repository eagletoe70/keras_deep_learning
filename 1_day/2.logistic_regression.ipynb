{
 "cells": [
  {
   "cell_type": "code",
   "execution_count": 2,
   "metadata": {},
   "outputs": [
    {
     "name": "stdout",
     "output_type": "stream",
     "text": [
      "Epoch 1/200\n",
      "9/9 [==============================] - 0s 6ms/step - loss: 3.4469 - accuracy: 0.4444\n",
      "Epoch 2/200\n",
      "9/9 [==============================] - 0s 776us/step - loss: 3.1141 - accuracy: 0.3333\n",
      "Epoch 3/200\n",
      "9/9 [==============================] - 0s 886us/step - loss: 2.8624 - accuracy: 0.3333\n",
      "Epoch 4/200\n",
      "9/9 [==============================] - 0s 2ms/step - loss: 2.6300 - accuracy: 0.3333\n",
      "Epoch 5/200\n",
      "9/9 [==============================] - 0s 776us/step - loss: 2.4079 - accuracy: 0.3333\n",
      "Epoch 6/200\n",
      "9/9 [==============================] - 0s 1ms/step - loss: 2.1940 - accuracy: 0.3333\n",
      "Epoch 7/200\n",
      "9/9 [==============================] - 0s 887us/step - loss: 1.9884 - accuracy: 0.3333\n",
      "Epoch 8/200\n",
      "9/9 [==============================] - 0s 665us/step - loss: 1.7923 - accuracy: 0.3333\n",
      "Epoch 9/200\n",
      "9/9 [==============================] - 0s 1ms/step - loss: 1.6074 - accuracy: 0.3333\n",
      "Epoch 10/200\n",
      "9/9 [==============================] - 0s 887us/step - loss: 1.4356 - accuracy: 0.2222\n",
      "Epoch 11/200\n",
      "9/9 [==============================] - 0s 665us/step - loss: 1.2791 - accuracy: 0.2222\n",
      "Epoch 12/200\n",
      "9/9 [==============================] - 0s 1ms/step - loss: 1.1401 - accuracy: 0.2222\n",
      "Epoch 13/200\n",
      "9/9 [==============================] - 0s 665us/step - loss: 1.0204 - accuracy: 0.1111\n",
      "Epoch 14/200\n",
      "9/9 [==============================] - 0s 1ms/step - loss: 0.9206 - accuracy: 0.1111\n",
      "Epoch 15/200\n",
      "9/9 [==============================] - 0s 776us/step - loss: 0.8405 - accuracy: 0.0000e+00\n",
      "Epoch 16/200\n",
      "9/9 [==============================] - 0s 776us/step - loss: 0.7783 - accuracy: 0.4444\n",
      "Epoch 17/200\n",
      "9/9 [==============================] - 0s 1ms/step - loss: 0.7313 - accuracy: 0.5556\n",
      "Epoch 18/200\n",
      "9/9 [==============================] - 0s 665us/step - loss: 0.6964 - accuracy: 0.5556\n",
      "Epoch 19/200\n",
      "9/9 [==============================] - 0s 1ms/step - loss: 0.6705 - accuracy: 0.5556\n",
      "Epoch 20/200\n",
      "9/9 [==============================] - 0s 997us/step - loss: 0.6511 - accuracy: 0.5556\n",
      "Epoch 21/200\n",
      "9/9 [==============================] - 0s 776us/step - loss: 0.6362 - accuracy: 0.5556\n",
      "Epoch 22/200\n",
      "9/9 [==============================] - 0s 1ms/step - loss: 0.6241 - accuracy: 0.5556\n",
      "Epoch 23/200\n",
      "9/9 [==============================] - 0s 887us/step - loss: 0.6139 - accuracy: 0.5556\n",
      "Epoch 24/200\n",
      "9/9 [==============================] - 0s 775us/step - loss: 0.6049 - accuracy: 0.5556\n",
      "Epoch 25/200\n",
      "9/9 [==============================] - 0s 1ms/step - loss: 0.5966 - accuracy: 0.5556\n",
      "Epoch 26/200\n",
      "9/9 [==============================] - 0s 776us/step - loss: 0.5886 - accuracy: 0.5556\n",
      "Epoch 27/200\n",
      "9/9 [==============================] - 0s 886us/step - loss: 0.5810 - accuracy: 0.5556\n",
      "Epoch 28/200\n",
      "9/9 [==============================] - 0s 997us/step - loss: 0.5735 - accuracy: 0.5556\n",
      "Epoch 29/200\n",
      "9/9 [==============================] - 0s 997us/step - loss: 0.5662 - accuracy: 0.5556\n",
      "Epoch 30/200\n",
      "9/9 [==============================] - 0s 776us/step - loss: 0.5590 - accuracy: 0.5556\n",
      "Epoch 31/200\n",
      "9/9 [==============================] - 0s 997us/step - loss: 0.5519 - accuracy: 0.5556\n",
      "Epoch 32/200\n",
      "9/9 [==============================] - 0s 665us/step - loss: 0.5449 - accuracy: 0.5556\n",
      "Epoch 33/200\n",
      "9/9 [==============================] - 0s 886us/step - loss: 0.5380 - accuracy: 0.5556\n",
      "Epoch 34/200\n",
      "9/9 [==============================] - 0s 665us/step - loss: 0.5312 - accuracy: 0.5556\n",
      "Epoch 35/200\n",
      "9/9 [==============================] - ETA: 0s - loss: 0.7171 - accuracy: 0.0000e+ - 0s 776us/step - loss: 0.5246 - accuracy: 0.5556\n",
      "Epoch 36/200\n",
      "9/9 [==============================] - 0s 887us/step - loss: 0.5180 - accuracy: 0.5556\n",
      "Epoch 37/200\n",
      "9/9 [==============================] - 0s 776us/step - loss: 0.5115 - accuracy: 0.6667\n",
      "Epoch 38/200\n",
      "9/9 [==============================] - 0s 997us/step - loss: 0.5051 - accuracy: 0.6667\n",
      "Epoch 39/200\n",
      "9/9 [==============================] - 0s 887us/step - loss: 0.4988 - accuracy: 0.6667\n",
      "Epoch 40/200\n",
      "9/9 [==============================] - 0s 776us/step - loss: 0.4926 - accuracy: 0.6667\n",
      "Epoch 41/200\n",
      "9/9 [==============================] - 0s 665us/step - loss: 0.4866 - accuracy: 0.6667\n",
      "Epoch 42/200\n",
      "9/9 [==============================] - 0s 887us/step - loss: 0.4806 - accuracy: 0.6667\n",
      "Epoch 43/200\n",
      "9/9 [==============================] - 0s 1ms/step - loss: 0.4747 - accuracy: 0.6667\n",
      "Epoch 44/200\n",
      "9/9 [==============================] - 0s 886us/step - loss: 0.4690 - accuracy: 0.6667\n",
      "Epoch 45/200\n",
      "9/9 [==============================] - 0s 887us/step - loss: 0.4633 - accuracy: 0.6667\n",
      "Epoch 46/200\n",
      "9/9 [==============================] - 0s 665us/step - loss: 0.4577 - accuracy: 0.6667\n",
      "Epoch 47/200\n",
      "9/9 [==============================] - 0s 886us/step - loss: 0.4523 - accuracy: 0.7778\n",
      "Epoch 48/200\n",
      "9/9 [==============================] - 0s 776us/step - loss: 0.4469 - accuracy: 0.7778\n",
      "Epoch 49/200\n",
      "9/9 [==============================] - 0s 776us/step - loss: 0.4416 - accuracy: 0.7778\n",
      "Epoch 50/200\n",
      "9/9 [==============================] - 0s 776us/step - loss: 0.4364 - accuracy: 0.7778\n",
      "Epoch 51/200\n",
      "9/9 [==============================] - 0s 776us/step - loss: 0.4314 - accuracy: 0.7778\n",
      "Epoch 52/200\n",
      "9/9 [==============================] - 0s 887us/step - loss: 0.4264 - accuracy: 0.7778\n",
      "Epoch 53/200\n",
      "9/9 [==============================] - 0s 776us/step - loss: 0.4215 - accuracy: 0.7778\n",
      "Epoch 54/200\n",
      "9/9 [==============================] - 0s 887us/step - loss: 0.4167 - accuracy: 0.7778\n",
      "Epoch 55/200\n",
      "9/9 [==============================] - 0s 665us/step - loss: 0.4119 - accuracy: 0.7778\n",
      "Epoch 56/200\n",
      "9/9 [==============================] - 0s 887us/step - loss: 0.4073 - accuracy: 0.7778\n",
      "Epoch 57/200\n",
      "9/9 [==============================] - 0s 665us/step - loss: 0.4027 - accuracy: 0.7778\n",
      "Epoch 58/200\n",
      "9/9 [==============================] - 0s 886us/step - loss: 0.3983 - accuracy: 0.7778\n",
      "Epoch 59/200\n",
      "9/9 [==============================] - 0s 1ms/step - loss: 0.3939 - accuracy: 0.7778\n",
      "Epoch 60/200\n",
      "9/9 [==============================] - 0s 886us/step - loss: 0.3896 - accuracy: 0.7778\n",
      "Epoch 61/200\n",
      "9/9 [==============================] - 0s 887us/step - loss: 0.3854 - accuracy: 0.7778\n",
      "Epoch 62/200\n",
      "9/9 [==============================] - 0s 665us/step - loss: 0.3812 - accuracy: 0.7778\n",
      "Epoch 63/200\n",
      "9/9 [==============================] - 0s 776us/step - loss: 0.3772 - accuracy: 0.7778\n",
      "Epoch 64/200\n",
      "9/9 [==============================] - 0s 776us/step - loss: 0.3732 - accuracy: 0.7778\n",
      "Epoch 65/200\n",
      "9/9 [==============================] - 0s 776us/step - loss: 0.3693 - accuracy: 0.8889\n",
      "Epoch 66/200\n",
      "9/9 [==============================] - 0s 997us/step - loss: 0.3654 - accuracy: 0.8889\n",
      "Epoch 67/200\n",
      "9/9 [==============================] - 0s 776us/step - loss: 0.3617 - accuracy: 0.8889\n",
      "Epoch 68/200\n",
      "9/9 [==============================] - 0s 887us/step - loss: 0.3580 - accuracy: 0.8889\n",
      "Epoch 69/200\n",
      "9/9 [==============================] - 0s 665us/step - loss: 0.3544 - accuracy: 0.8889\n",
      "Epoch 70/200\n",
      "9/9 [==============================] - 0s 776us/step - loss: 0.3508 - accuracy: 0.8889\n",
      "Epoch 71/200\n",
      "9/9 [==============================] - 0s 776us/step - loss: 0.3473 - accuracy: 0.8889\n",
      "Epoch 72/200\n",
      "9/9 [==============================] - 0s 776us/step - loss: 0.3439 - accuracy: 0.8889\n",
      "Epoch 73/200\n",
      "9/9 [==============================] - 0s 887us/step - loss: 0.3405 - accuracy: 0.8889\n",
      "Epoch 74/200\n",
      "9/9 [==============================] - 0s 776us/step - loss: 0.3372 - accuracy: 0.8889\n",
      "Epoch 75/200\n",
      "9/9 [==============================] - 0s 776us/step - loss: 0.3340 - accuracy: 0.8889\n",
      "Epoch 76/200\n",
      "9/9 [==============================] - 0s 665us/step - loss: 0.3308 - accuracy: 0.8889\n",
      "Epoch 77/200\n",
      "9/9 [==============================] - 0s 776us/step - loss: 0.3277 - accuracy: 0.8889\n",
      "Epoch 78/200\n",
      "9/9 [==============================] - 0s 776us/step - loss: 0.3247 - accuracy: 0.8889\n",
      "Epoch 79/200\n",
      "9/9 [==============================] - 0s 887us/step - loss: 0.3217 - accuracy: 0.8889\n",
      "Epoch 80/200\n",
      "9/9 [==============================] - 0s 665us/step - loss: 0.3187 - accuracy: 0.8889\n",
      "Epoch 81/200\n",
      "9/9 [==============================] - 0s 776us/step - loss: 0.3158 - accuracy: 0.8889\n",
      "Epoch 82/200\n"
     ]
    },
    {
     "name": "stdout",
     "output_type": "stream",
     "text": [
      "9/9 [==============================] - 0s 1ms/step - loss: 0.3130 - accuracy: 0.8889\n",
      "Epoch 83/200\n",
      "9/9 [==============================] - 0s 886us/step - loss: 0.3102 - accuracy: 0.8889\n",
      "Epoch 84/200\n",
      "9/9 [==============================] - 0s 997us/step - loss: 0.3075 - accuracy: 0.8889\n",
      "Epoch 85/200\n",
      "9/9 [==============================] - 0s 1ms/step - loss: 0.3048 - accuracy: 0.8889\n",
      "Epoch 86/200\n",
      "9/9 [==============================] - 0s 997us/step - loss: 0.3021 - accuracy: 0.8889\n",
      "Epoch 87/200\n",
      "9/9 [==============================] - 0s 997us/step - loss: 0.2995 - accuracy: 0.8889\n",
      "Epoch 88/200\n",
      "9/9 [==============================] - 0s 1ms/step - loss: 0.2970 - accuracy: 0.8889\n",
      "Epoch 89/200\n",
      "9/9 [==============================] - 0s 997us/step - loss: 0.2945 - accuracy: 0.8889\n",
      "Epoch 90/200\n",
      "9/9 [==============================] - 0s 776us/step - loss: 0.2921 - accuracy: 0.8889\n",
      "Epoch 91/200\n",
      "9/9 [==============================] - 0s 1ms/step - loss: 0.2896 - accuracy: 0.8889\n",
      "Epoch 92/200\n",
      "9/9 [==============================] - 0s 997us/step - loss: 0.2873 - accuracy: 0.8889\n",
      "Epoch 93/200\n",
      "9/9 [==============================] - 0s 776us/step - loss: 0.2850 - accuracy: 0.8889\n",
      "Epoch 94/200\n",
      "9/9 [==============================] - 0s 887us/step - loss: 0.2827 - accuracy: 0.8889\n",
      "Epoch 95/200\n",
      "9/9 [==============================] - 0s 665us/step - loss: 0.2804 - accuracy: 0.8889\n",
      "Epoch 96/200\n",
      "9/9 [==============================] - 0s 887us/step - loss: 0.2782 - accuracy: 0.8889\n",
      "Epoch 97/200\n",
      "9/9 [==============================] - 0s 665us/step - loss: 0.2761 - accuracy: 0.8889\n",
      "Epoch 98/200\n",
      "9/9 [==============================] - 0s 887us/step - loss: 0.2739 - accuracy: 0.8889\n",
      "Epoch 99/200\n",
      "9/9 [==============================] - 0s 665us/step - loss: 0.2718 - accuracy: 0.8889\n",
      "Epoch 100/200\n",
      "9/9 [==============================] - 0s 997us/step - loss: 0.2698 - accuracy: 0.8889\n",
      "Epoch 101/200\n",
      "9/9 [==============================] - 0s 997us/step - loss: 0.2678 - accuracy: 0.8889\n",
      "Epoch 102/200\n",
      "9/9 [==============================] - 0s 886us/step - loss: 0.2658 - accuracy: 0.8889\n",
      "Epoch 103/200\n",
      "9/9 [==============================] - 0s 998us/step - loss: 0.2638 - accuracy: 0.8889\n",
      "Epoch 104/200\n",
      "9/9 [==============================] - 0s 776us/step - loss: 0.2619 - accuracy: 0.8889\n",
      "Epoch 105/200\n",
      "9/9 [==============================] - 0s 887us/step - loss: 0.2600 - accuracy: 0.8889\n",
      "Epoch 106/200\n",
      "9/9 [==============================] - 0s 665us/step - loss: 0.2582 - accuracy: 0.8889\n",
      "Epoch 107/200\n",
      "9/9 [==============================] - 0s 887us/step - loss: 0.2563 - accuracy: 0.8889\n",
      "Epoch 108/200\n",
      "9/9 [==============================] - 0s 554us/step - loss: 0.2545 - accuracy: 0.8889\n",
      "Epoch 109/200\n",
      "9/9 [==============================] - 0s 887us/step - loss: 0.2528 - accuracy: 0.8889\n",
      "Epoch 110/200\n",
      "9/9 [==============================] - 0s 665us/step - loss: 0.2510 - accuracy: 0.8889\n",
      "Epoch 111/200\n",
      "9/9 [==============================] - 0s 887us/step - loss: 0.2493 - accuracy: 0.8889\n",
      "Epoch 112/200\n",
      "9/9 [==============================] - 0s 665us/step - loss: 0.2477 - accuracy: 0.8889\n",
      "Epoch 113/200\n",
      "9/9 [==============================] - 0s 887us/step - loss: 0.2460 - accuracy: 0.8889\n",
      "Epoch 114/200\n",
      "9/9 [==============================] - 0s 665us/step - loss: 0.2444 - accuracy: 0.8889\n",
      "Epoch 115/200\n",
      "9/9 [==============================] - 0s 997us/step - loss: 0.2428 - accuracy: 0.8889\n",
      "Epoch 116/200\n",
      "9/9 [==============================] - 0s 554us/step - loss: 0.2412 - accuracy: 0.8889\n",
      "Epoch 117/200\n",
      "9/9 [==============================] - 0s 776us/step - loss: 0.2396 - accuracy: 0.8889\n",
      "Epoch 118/200\n",
      "9/9 [==============================] - 0s 665us/step - loss: 0.2381 - accuracy: 0.8889\n",
      "Epoch 119/200\n",
      "9/9 [==============================] - 0s 776us/step - loss: 0.2366 - accuracy: 0.8889\n",
      "Epoch 120/200\n",
      "9/9 [==============================] - 0s 776us/step - loss: 0.2351 - accuracy: 1.0000\n",
      "Epoch 121/200\n",
      "9/9 [==============================] - 0s 776us/step - loss: 0.2337 - accuracy: 1.0000\n",
      "Epoch 122/200\n",
      "9/9 [==============================] - 0s 776us/step - loss: 0.2322 - accuracy: 1.0000\n",
      "Epoch 123/200\n",
      "9/9 [==============================] - 0s 776us/step - loss: 0.2308 - accuracy: 1.0000\n",
      "Epoch 124/200\n",
      "9/9 [==============================] - 0s 886us/step - loss: 0.2294 - accuracy: 1.0000\n",
      "Epoch 125/200\n",
      "9/9 [==============================] - 0s 2ms/step - loss: 0.2280 - accuracy: 1.0000\n",
      "Epoch 126/200\n",
      "9/9 [==============================] - 0s 997us/step - loss: 0.2267 - accuracy: 1.0000\n",
      "Epoch 127/200\n",
      "9/9 [==============================] - 0s 886us/step - loss: 0.2253 - accuracy: 1.0000\n",
      "Epoch 128/200\n",
      "9/9 [==============================] - 0s 1ms/step - loss: 0.2240 - accuracy: 1.0000\n",
      "Epoch 129/200\n",
      "9/9 [==============================] - 0s 775us/step - loss: 0.2227 - accuracy: 1.0000\n",
      "Epoch 130/200\n",
      "9/9 [==============================] - 0s 1ms/step - loss: 0.2214 - accuracy: 1.0000\n",
      "Epoch 131/200\n",
      "9/9 [==============================] - 0s 887us/step - loss: 0.2202 - accuracy: 1.0000\n",
      "Epoch 132/200\n",
      "9/9 [==============================] - 0s 886us/step - loss: 0.2189 - accuracy: 1.0000\n",
      "Epoch 133/200\n",
      "9/9 [==============================] - 0s 887us/step - loss: 0.2177 - accuracy: 1.0000\n",
      "Epoch 134/200\n",
      "9/9 [==============================] - 0s 886us/step - loss: 0.2165 - accuracy: 1.0000\n",
      "Epoch 135/200\n",
      "9/9 [==============================] - 0s 886us/step - loss: 0.2153 - accuracy: 1.0000\n",
      "Epoch 136/200\n",
      "9/9 [==============================] - 0s 665us/step - loss: 0.2142 - accuracy: 1.0000\n",
      "Epoch 137/200\n",
      "9/9 [==============================] - 0s 776us/step - loss: 0.2130 - accuracy: 1.0000\n",
      "Epoch 138/200\n",
      "9/9 [==============================] - 0s 776us/step - loss: 0.2119 - accuracy: 1.0000\n",
      "Epoch 139/200\n",
      "9/9 [==============================] - 0s 776us/step - loss: 0.2107 - accuracy: 1.0000\n",
      "Epoch 140/200\n",
      "9/9 [==============================] - 0s 665us/step - loss: 0.2096 - accuracy: 1.0000\n",
      "Epoch 141/200\n",
      "9/9 [==============================] - 0s 886us/step - loss: 0.2085 - accuracy: 1.0000\n",
      "Epoch 142/200\n",
      "9/9 [==============================] - 0s 665us/step - loss: 0.2074 - accuracy: 1.0000\n",
      "Epoch 143/200\n",
      "9/9 [==============================] - 0s 886us/step - loss: 0.2064 - accuracy: 1.0000\n",
      "Epoch 144/200\n",
      "9/9 [==============================] - 0s 665us/step - loss: 0.2053 - accuracy: 1.0000\n",
      "Epoch 145/200\n",
      "9/9 [==============================] - 0s 997us/step - loss: 0.2043 - accuracy: 1.0000\n",
      "Epoch 146/200\n",
      "9/9 [==============================] - 0s 887us/step - loss: 0.2033 - accuracy: 1.0000\n",
      "Epoch 147/200\n",
      "9/9 [==============================] - 0s 886us/step - loss: 0.2023 - accuracy: 1.0000\n",
      "Epoch 148/200\n",
      "9/9 [==============================] - 0s 776us/step - loss: 0.2013 - accuracy: 1.0000\n",
      "Epoch 149/200\n",
      "9/9 [==============================] - 0s 886us/step - loss: 0.2003 - accuracy: 1.0000\n",
      "Epoch 150/200\n",
      "9/9 [==============================] - 0s 886us/step - loss: 0.1993 - accuracy: 1.0000\n",
      "Epoch 151/200\n",
      "9/9 [==============================] - 0s 776us/step - loss: 0.1983 - accuracy: 1.0000\n",
      "Epoch 152/200\n",
      "9/9 [==============================] - 0s 776us/step - loss: 0.1974 - accuracy: 1.0000\n",
      "Epoch 153/200\n",
      "9/9 [==============================] - 0s 776us/step - loss: 0.1965 - accuracy: 1.0000\n",
      "Epoch 154/200\n",
      "9/9 [==============================] - 0s 776us/step - loss: 0.1955 - accuracy: 1.0000\n",
      "Epoch 155/200\n",
      "9/9 [==============================] - 0s 1ms/step - loss: 0.1946 - accuracy: 1.0000\n",
      "Epoch 156/200\n",
      "9/9 [==============================] - 0s 1ms/step - loss: 0.1937 - accuracy: 1.0000\n",
      "Epoch 157/200\n",
      "9/9 [==============================] - 0s 887us/step - loss: 0.1928 - accuracy: 1.0000\n",
      "Epoch 158/200\n",
      "9/9 [==============================] - 0s 1ms/step - loss: 0.1919 - accuracy: 1.0000\n",
      "Epoch 159/200\n",
      "9/9 [==============================] - 0s 1ms/step - loss: 0.1911 - accuracy: 1.0000\n",
      "Epoch 160/200\n",
      "9/9 [==============================] - 0s 1ms/step - loss: 0.1902 - accuracy: 1.0000\n",
      "Epoch 161/200\n",
      "9/9 [==============================] - 0s 997us/step - loss: 0.1894 - accuracy: 1.0000\n",
      "Epoch 162/200\n",
      "9/9 [==============================] - 0s 1ms/step - loss: 0.1885 - accuracy: 1.0000\n",
      "Epoch 163/200\n"
     ]
    },
    {
     "name": "stdout",
     "output_type": "stream",
     "text": [
      "9/9 [==============================] - 0s 1ms/step - loss: 0.1877 - accuracy: 1.0000\n",
      "Epoch 164/200\n",
      "9/9 [==============================] - 0s 1ms/step - loss: 0.1869 - accuracy: 1.0000\n",
      "Epoch 165/200\n",
      "9/9 [==============================] - 0s 776us/step - loss: 0.1861 - accuracy: 1.0000\n",
      "Epoch 166/200\n",
      "9/9 [==============================] - 0s 1ms/step - loss: 0.1853 - accuracy: 1.0000\n",
      "Epoch 167/200\n",
      "9/9 [==============================] - 0s 1ms/step - loss: 0.1845 - accuracy: 1.0000\n",
      "Epoch 168/200\n",
      "9/9 [==============================] - 0s 776us/step - loss: 0.1837 - accuracy: 1.0000\n",
      "Epoch 169/200\n",
      "9/9 [==============================] - 0s 1ms/step - loss: 0.1829 - accuracy: 1.0000\n",
      "Epoch 170/200\n",
      "9/9 [==============================] - 0s 1ms/step - loss: 0.1822 - accuracy: 1.0000\n",
      "Epoch 171/200\n",
      "9/9 [==============================] - 0s 887us/step - loss: 0.1814 - accuracy: 1.0000\n",
      "Epoch 172/200\n",
      "9/9 [==============================] - 0s 886us/step - loss: 0.1807 - accuracy: 1.0000\n",
      "Epoch 173/200\n",
      "9/9 [==============================] - 0s 1ms/step - loss: 0.1799 - accuracy: 1.0000\n",
      "Epoch 174/200\n",
      "9/9 [==============================] - 0s 998us/step - loss: 0.1792 - accuracy: 1.0000\n",
      "Epoch 175/200\n",
      "9/9 [==============================] - 0s 776us/step - loss: 0.1785 - accuracy: 1.0000\n",
      "Epoch 176/200\n",
      "9/9 [==============================] - 0s 887us/step - loss: 0.1777 - accuracy: 1.0000\n",
      "Epoch 177/200\n",
      "9/9 [==============================] - 0s 665us/step - loss: 0.1770 - accuracy: 1.0000\n",
      "Epoch 178/200\n",
      "9/9 [==============================] - 0s 887us/step - loss: 0.1763 - accuracy: 1.0000\n",
      "Epoch 179/200\n",
      "9/9 [==============================] - 0s 665us/step - loss: 0.1756 - accuracy: 1.0000\n",
      "Epoch 180/200\n",
      "9/9 [==============================] - 0s 886us/step - loss: 0.1750 - accuracy: 1.0000\n",
      "Epoch 181/200\n",
      "9/9 [==============================] - 0s 665us/step - loss: 0.1743 - accuracy: 1.0000\n",
      "Epoch 182/200\n",
      "9/9 [==============================] - 0s 776us/step - loss: 0.1736 - accuracy: 1.0000\n",
      "Epoch 183/200\n",
      "9/9 [==============================] - 0s 665us/step - loss: 0.1729 - accuracy: 1.0000\n",
      "Epoch 184/200\n",
      "9/9 [==============================] - 0s 886us/step - loss: 0.1723 - accuracy: 1.0000\n",
      "Epoch 185/200\n",
      "9/9 [==============================] - 0s 776us/step - loss: 0.1716 - accuracy: 1.0000\n",
      "Epoch 186/200\n",
      "9/9 [==============================] - 0s 776us/step - loss: 0.1710 - accuracy: 1.0000\n",
      "Epoch 187/200\n",
      "9/9 [==============================] - 0s 665us/step - loss: 0.1704 - accuracy: 1.0000\n",
      "Epoch 188/200\n",
      "9/9 [==============================] - 0s 886us/step - loss: 0.1697 - accuracy: 1.0000\n",
      "Epoch 189/200\n",
      "9/9 [==============================] - 0s 665us/step - loss: 0.1691 - accuracy: 1.0000\n",
      "Epoch 190/200\n",
      "9/9 [==============================] - 0s 776us/step - loss: 0.1685 - accuracy: 1.0000\n",
      "Epoch 191/200\n",
      "9/9 [==============================] - 0s 776us/step - loss: 0.1679 - accuracy: 1.0000\n",
      "Epoch 192/200\n",
      "9/9 [==============================] - 0s 775us/step - loss: 0.1673 - accuracy: 1.0000\n",
      "Epoch 193/200\n",
      "9/9 [==============================] - 0s 887us/step - loss: 0.1667 - accuracy: 1.0000\n",
      "Epoch 194/200\n",
      "9/9 [==============================] - 0s 775us/step - loss: 0.1661 - accuracy: 1.0000\n",
      "Epoch 195/200\n",
      "9/9 [==============================] - 0s 887us/step - loss: 0.1655 - accuracy: 1.0000\n",
      "Epoch 196/200\n",
      "9/9 [==============================] - 0s 665us/step - loss: 0.1649 - accuracy: 1.0000\n",
      "Epoch 197/200\n",
      "9/9 [==============================] - 0s 887us/step - loss: 0.1643 - accuracy: 1.0000\n",
      "Epoch 198/200\n",
      "9/9 [==============================] - 0s 665us/step - loss: 0.1638 - accuracy: 1.0000\n",
      "Epoch 199/200\n",
      "9/9 [==============================] - 0s 886us/step - loss: 0.1632 - accuracy: 1.0000\n",
      "Epoch 200/200\n",
      "9/9 [==============================] - 0s 776us/step - loss: 0.1626 - accuracy: 1.0000\n",
      "[ 0  1  2  3  4  5  6  7 10]\n",
      "[[0.02473869]\n",
      " [0.0731666 ]\n",
      " [0.19722448]\n",
      " [0.4332925 ]\n",
      " [0.70409447]\n",
      " [0.88102525]\n",
      " [0.9584124 ]\n",
      " [0.9862488 ]\n",
      " [0.9995377 ]]\n"
     ]
    },
    {
     "data": {
      "image/png": "[encoded data removed]",
      "text/plain": [
       "<Figure size 432x288 with 1 Axes>"
      ]
     },
     "metadata": {
      "needs_background": "light"
     },
     "output_type": "display_data"
    }
   ],
   "source": [
    "from keras.models import Sequential # 케라스의 Sequential()을 임포트\n",
    "from keras.layers import Dense      # 케라스의 Dense()를 임포트\n",
    "from keras import optimizers        # 케라스의 옵티마이저를 임포트\n",
    "import numpy as np # Numpy를 임포트\n",
    "import matplotlib.pyplot as plt\n",
    "\n",
    "X=np.array([0,1,2,3,4,5,6,7]) \n",
    "Y=np.array([0,0,0,0,1,1,1,1]) \n",
    "\n",
    "model=Sequential()\n",
    "model.add(Dense(1, input_dim=1, activation='sigmoid'))\n",
    "RMSprop=optimizers.RMSprop(lr=0.01)\n",
    "model.compile(optimizer=RMSprop ,loss='binary_crossentropy',metrics=['accuracy'])\n",
    "model.fit(X,Y, batch_size=1, epochs=200, shuffle=False)\n",
    "\n",
    "plt.plot(X, Y, 'rx')\n",
    "print(X)\n",
    "print(model.predict(X))\n",
    "plt.show()"
   ]
  },
  {
   "cell_type": "code",
   "execution_count": 3,
   "metadata": {},
   "outputs": [
    {
     "name": "stdout",
     "output_type": "stream",
     "text": [
      "1 : 양성종양\n",
      "2 : 양성종양\n",
      "3 : 양성종양\n",
      "4 : 양성종양\n",
      "5 : 악성종양\n",
      "6 : 악성종양\n",
      "7 : 악성종양\n",
      "8 : 악성종양\n"
     ]
    },
    {
     "data": {
      "image/png": "[encoded data removed]",
      "text/plain": [
       "<Figure size 432x288 with 1 Axes>"
      ]
     },
     "metadata": {
      "needs_background": "light"
     },
     "output_type": "display_data"
    }
   ],
   "source": [
    "import matplotlib.pyplot as  plt\n",
    "import numpy as np\n",
    "\n",
    "class Neuron:\n",
    "    \n",
    "    def __init__(self):\n",
    "        self.w = 1.0     # 가중치를 초기화합니다\n",
    "        self.b = 1.0     # 절편을 초기화합니다\n",
    "    \n",
    "    def forpass(self, x):\n",
    "        y_hat = x * self.w + self.b       # 직선 방정식을 계산합니다\n",
    "        return y_hat\n",
    "    \n",
    "    def backprop(self, x, err):\n",
    "        w_grad = x * err    # 가중치에 대한 그래디언트를 계산합니다\n",
    "        b_grad = 1 * err    # 절편에 대한 그래디언트를 계산합니다\n",
    "        return w_grad, b_grad\n",
    "\n",
    "    def activation(self, z):\n",
    "        return z\n",
    "    \n",
    "    def fit(self, x, y, epochs=200):\n",
    "        for i in range(epochs):           # 에포크만큼 반복합니다\n",
    "            for x_i, y_i in zip(x, y):    # 모든 샘플에 대해 반복합니다\n",
    "                y_hat = self.forpass(x_i) # 정방향 계산\n",
    "                y_hat = self.activation(y_hat)\n",
    "                err = y_i - y_hat      # 오차 계산\n",
    "                w_grad, b_grad = self.backprop(x_i, err)  # 역방향 계산\n",
    "                self.w += 0.01*w_grad          # 가중치 업데이트\n",
    "                self.b += 0.01*b_grad          # 절편 업데이트\n",
    "\n",
    "x = np.array([1,2,3,4,5,6,7,8])\n",
    "y = np.array([0,0,0,0,1,1,1,1])\n",
    "#x = np.array([1,2,3,4,5,6,7,8,12])\n",
    "#y = np.array([0,0,0,0,1,1,1,1,1])                \n",
    "\n",
    "neuron = Neuron()\n",
    "neuron.fit(x, y)\n",
    "\n",
    "for xi, yi in zip(x,y):\n",
    "    plt.plot(xi,yi,\"rx\")\n",
    "\n",
    "y_temp = []\n",
    "for x_i in x:\n",
    "    y_hat = neuron.forpass(x_i)\n",
    "    if( y_hat >= 0.5 ):\n",
    "        print(\"%d : 악성종양\"%x_i)\n",
    "    else:\n",
    "        print(\"%d : 양성종양\"%x_i)\n",
    "    y_temp.append(y_hat)\n",
    "\n",
    "plt.plot(x,y_temp)\n",
    "plt.show()"
   ]
  },
  {
   "cell_type": "code",
   "execution_count": 226,
   "metadata": {},
   "outputs": [
    {
     "data": {
      "image/png": "[encoded data removed]",
      "text/plain": [
       "<Figure size 432x288 with 1 Axes>"
      ]
     },
     "metadata": {
      "needs_background": "light"
     },
     "output_type": "display_data"
    }
   ],
   "source": [
    "import numpy as np\n",
    "import matplotlib.pyplot as plt\n",
    "np.random.seed(42)\n",
    "probs = np.arange(0, 1, 0.01)\n",
    "odds = [p/(1-p) for p in probs]\n",
    "plt.plot(probs, odds)\n",
    "plt.xlabel('p')\n",
    "plt.ylabel('p/(1-p)')\n",
    "plt.show()"
   ]
  },
  {
   "cell_type": "code",
   "execution_count": 4,
   "metadata": {},
   "outputs": [
    {
     "data": {
      "image/png": "[encoded data removed]",
      "text/plain": [
       "<Figure size 432x288 with 1 Axes>"
      ]
     },
     "metadata": {
      "needs_background": "light"
     },
     "output_type": "display_data"
    }
   ],
   "source": [
    "probs  = np.arange(0.001, 0.999, 0.001)\n",
    "logit = [np.log(p/(1-p)) for p in probs]\n",
    "plt.plot(probs, logit)\n",
    "plt.xlabel('p')\n",
    "plt.ylabel('log(p/(1-p))')\n",
    "plt.show()"
   ]
  },
  {
   "cell_type": "code",
   "execution_count": 5,
   "metadata": {},
   "outputs": [
    {
     "data": {
      "image/png": "[encoded data removed]",
      "text/plain": [
       "<Figure size 432x288 with 1 Axes>"
      ]
     },
     "metadata": {
      "needs_background": "light"
     },
     "output_type": "display_data"
    }
   ],
   "source": [
    "zs = np.arange(-10., 10., 0.1)\n",
    "gs = [1/(1+np.exp(-z)) for z in zs]\n",
    "plt.plot(zs, gs)\n",
    "plt.xlabel('z')\n",
    "plt.ylabel('1/(1+e^-z)')\n",
    "plt.show()"
   ]
  },
  {
   "cell_type": "code",
   "execution_count": 229,
   "metadata": {},
   "outputs": [
    {
     "data": {
      "image/png": "[encoded data removed]",
      "text/plain": [
       "<Figure size 432x288 with 1 Axes>"
      ]
     },
     "metadata": {
      "needs_background": "light"
     },
     "output_type": "display_data"
    }
   ],
   "source": [
    "zs = np.arange(0.01, 10., 0.01)\n",
    "gs = [-np.log(z) for z in zs]\n",
    "plt.plot(zs, gs)\n",
    "plt.xlim(0,1)\n",
    "plt.ylim(0,5)\n",
    "plt.xlabel('z')\n",
    "plt.ylabel('-(np.log(z)')\n",
    "plt.show()"
   ]
  },
  {
   "cell_type": "code",
   "execution_count": 6,
   "metadata": {},
   "outputs": [
    {
     "name": "stderr",
     "output_type": "stream",
     "text": [
      "C:\\Users\\jikim\\anaconda3\\lib\\site-packages\\ipykernel_launcher.py:2: RuntimeWarning: divide by zero encountered in log\n",
      "  \n",
      "C:\\Users\\jikim\\anaconda3\\lib\\site-packages\\ipykernel_launcher.py:2: RuntimeWarning: invalid value encountered in log\n",
      "  \n"
     ]
    },
    {
     "data": {
      "image/png": "[encoded data removed]",
      "text/plain": [
       "<Figure size 432x288 with 1 Axes>"
      ]
     },
     "metadata": {
      "needs_background": "light"
     },
     "output_type": "display_data"
    }
   ],
   "source": [
    "zs = np.arange(0.01, 10., 0.01)\n",
    "gs = [-np.log(1-z) for z in zs]\n",
    "plt.plot(zs, gs)\n",
    "plt.xlim(0,1)\n",
    "plt.ylim(0,5)\n",
    "plt.xlabel('z')\n",
    "plt.ylabel('-(np.log(z)')\n",
    "plt.show()"
   ]
  },
  {
   "cell_type": "code",
   "execution_count": 7,
   "metadata": {},
   "outputs": [
    {
     "name": "stdout",
     "output_type": "stream",
     "text": [
      "1 : 양성종양\n",
      "2 : 양성종양\n",
      "3 : 양성종양\n",
      "4 : 양성종양\n",
      "5 : 악성종양\n",
      "6 : 악성종양\n",
      "7 : 악성종양\n",
      "8 : 악성종양\n"
     ]
    },
    {
     "data": {
      "image/png": "[encoded data removed]",
      "text/plain": [
       "<Figure size 432x288 with 1 Axes>"
      ]
     },
     "metadata": {
      "needs_background": "light"
     },
     "output_type": "display_data"
    }
   ],
   "source": [
    "import matplotlib.pyplot as  plt\n",
    "import numpy as np\n",
    "\n",
    "class Neuron:\n",
    "    \n",
    "    def __init__(self):\n",
    "        self.w = 1.0     # 가중치를 초기화합니다\n",
    "        self.b = 1.0     # 절편을 초기화합니다\n",
    "    \n",
    "    def forpass(self, x):\n",
    "        z = x * self.w + self.b       # 직선 방정식을 계산합니다\n",
    "        return z\n",
    "    \n",
    "    def backprop(self, x, err):\n",
    "        w_grad = x * err    # 가중치에 대한 그래디언트를 계산합니다\n",
    "        b_grad = 1 * err    # 절편에 대한 그래디언트를 계산합니다\n",
    "        return w_grad, b_grad\n",
    "\n",
    "    def activation(self, z):\n",
    "        a = 1/(1+np.exp(-z))\n",
    "        return a\n",
    "    \n",
    "    def fit(self, x, y, epochs=200):\n",
    "        for i in range(epochs):           # 에포크만큼 반복합니다\n",
    "            for x_i, y_i in zip(x, y):    # 모든 샘플에 대해 반복합니다\n",
    "                z = self.forpass(x_i) # 정방향 계산\n",
    "                a = self.activation(z)\n",
    "                err = y_i - a      # 오차 계산\n",
    "                w_grad, b_grad = self.backprop(x_i, err)  # 역방향 계산\n",
    "                self.w += 0.1*w_grad          # 가중치 업데이트\n",
    "                self.b += 0.1*b_grad          # 절편 업데이트\n",
    "\n",
    "x = np.array([1,2,3,4,5,6,7,8])\n",
    "y = np.array([0,0,0,0,1,1,1,1])\n",
    "#x = np.array([1,2,3,4,5,6,7,8,12])\n",
    "#y = np.array([0,0,0,0,1,1,1,1,1])                \n",
    "\n",
    "neuron = Neuron()\n",
    "neuron.fit(x, y)\n",
    "\n",
    "for xi, yi in zip(x,y):\n",
    "    plt.plot(xi,yi,\"rx\")\n",
    "\n",
    "for x_i in x:\n",
    "    y_hat = neuron.forpass(x_i)\n",
    "    a = neuron.activation(y_hat)\n",
    "    if( a >= 0.5 ):\n",
    "        print(\"%d : 악성종양\"%x_i)\n",
    "    else:\n",
    "        print(\"%d : 양성종양\"%x_i)\n",
    "    y_temp.append(a)\n",
    "\n",
    "x = np.arange(0,x[-1],0.1)\n",
    "y_temp = []\n",
    "  \n",
    "for i, x_i in enumerate(x):\n",
    "    y_hat = neuron.forpass(x_i)\n",
    "    a = neuron.activation(y_hat)\n",
    "    y_temp.append(a)    \n",
    "    \n",
    "plt.plot(x,y_temp)\n",
    "plt.show()"
   ]
  },
  {
   "cell_type": "code",
   "execution_count": 8,
   "metadata": {},
   "outputs": [
    {
     "name": "stdout",
     "output_type": "stream",
     "text": [
      "(569, 30) (569,)\n"
     ]
    }
   ],
   "source": [
    "from sklearn.datasets import load_breast_cancer\n",
    "cancer = load_breast_cancer()\n",
    "print(cancer.data.shape, cancer.target.shape)"
   ]
  },
  {
   "cell_type": "code",
   "execution_count": 9,
   "metadata": {},
   "outputs": [
    {
     "data": {
      "text/plain": [
       "array([[1.799e+01, 1.038e+01, 1.228e+02, 1.001e+03, 1.184e-01, 2.776e-01,\n",
       "        3.001e-01, 1.471e-01, 2.419e-01, 7.871e-02, 1.095e+00, 9.053e-01,\n",
       "        8.589e+00, 1.534e+02, 6.399e-03, 4.904e-02, 5.373e-02, 1.587e-02,\n",
       "        3.003e-02, 6.193e-03, 2.538e+01, 1.733e+01, 1.846e+02, 2.019e+03,\n",
       "        1.622e-01, 6.656e-01, 7.119e-01, 2.654e-01, 4.601e-01, 1.189e-01],\n",
       "       [2.057e+01, 1.777e+01, 1.329e+02, 1.326e+03, 8.474e-02, 7.864e-02,\n",
       "        8.690e-02, 7.017e-02, 1.812e-01, 5.667e-02, 5.435e-01, 7.339e-01,\n",
       "        3.398e+00, 7.408e+01, 5.225e-03, 1.308e-02, 1.860e-02, 1.340e-02,\n",
       "        1.389e-02, 3.532e-03, 2.499e+01, 2.341e+01, 1.588e+02, 1.956e+03,\n",
       "        1.238e-01, 1.866e-01, 2.416e-01, 1.860e-01, 2.750e-01, 8.902e-02],\n",
       "       [1.969e+01, 2.125e+01, 1.300e+02, 1.203e+03, 1.096e-01, 1.599e-01,\n",
       "        1.974e-01, 1.279e-01, 2.069e-01, 5.999e-02, 7.456e-01, 7.869e-01,\n",
       "        4.585e+00, 9.403e+01, 6.150e-03, 4.006e-02, 3.832e-02, 2.058e-02,\n",
       "        2.250e-02, 4.571e-03, 2.357e+01, 2.553e+01, 1.525e+02, 1.709e+03,\n",
       "        1.444e-01, 4.245e-01, 4.504e-01, 2.430e-01, 3.613e-01, 8.758e-02]])"
      ]
     },
     "execution_count": 9,
     "metadata": {},
     "output_type": "execute_result"
    }
   ],
   "source": [
    "cancer.data[:3]"
   ]
  },
  {
   "cell_type": "code",
   "execution_count": 234,
   "metadata": {},
   "outputs": [
    {
     "data": {
      "image/png": "[encoded data removed]",
      "text/plain": [
       "<Figure size 432x288 with 1 Axes>"
      ]
     },
     "metadata": {
      "needs_background": "light"
     },
     "output_type": "display_data"
    }
   ],
   "source": [
    "plt.boxplot(cancer.data)\n",
    "plt.xlabel('feature')\n",
    "plt.ylabel('value')\n",
    "plt.show()"
   ]
  },
  {
   "cell_type": "code",
   "execution_count": 10,
   "metadata": {},
   "outputs": [
    {
     "data": {
      "text/plain": [
       "array(['mean area', 'worst area'], dtype='<U23')"
      ]
     },
     "execution_count": 10,
     "metadata": {},
     "output_type": "execute_result"
    }
   ],
   "source": [
    "cancer.feature_names[[3,23]]"
   ]
  },
  {
   "cell_type": "code",
   "execution_count": 11,
   "metadata": {},
   "outputs": [
    {
     "data": {
      "text/plain": [
       "(array([0, 1]), array([212, 357], dtype=int64))"
      ]
     },
     "execution_count": 11,
     "metadata": {},
     "output_type": "execute_result"
    }
   ],
   "source": [
    "np.unique(cancer.target, return_counts=True)"
   ]
  },
  {
   "cell_type": "code",
   "execution_count": 12,
   "metadata": {},
   "outputs": [],
   "source": [
    "x = cancer.data\n",
    "y = cancer.target"
   ]
  },
  {
   "cell_type": "code",
   "execution_count": 13,
   "metadata": {},
   "outputs": [],
   "source": [
    "from sklearn.model_selection import train_test_split"
   ]
  },
  {
   "cell_type": "code",
   "execution_count": 14,
   "metadata": {},
   "outputs": [],
   "source": [
    "x_train, x_test, y_train, y_test = train_test_split(x, y, stratify=y, \n",
    "                                                    test_size=0.2, random_state=42)"
   ]
  },
  {
   "cell_type": "code",
   "execution_count": 15,
   "metadata": {},
   "outputs": [
    {
     "name": "stdout",
     "output_type": "stream",
     "text": [
      "(455, 30) (114, 30)\n"
     ]
    }
   ],
   "source": [
    "print(x_train.shape, x_test.shape)"
   ]
  },
  {
   "cell_type": "code",
   "execution_count": 16,
   "metadata": {},
   "outputs": [
    {
     "data": {
      "text/plain": [
       "(array([0, 1]), array([170, 285], dtype=int64))"
      ]
     },
     "execution_count": 16,
     "metadata": {},
     "output_type": "execute_result"
    }
   ],
   "source": [
    "np.unique(y_train, return_counts=True)"
   ]
  },
  {
   "cell_type": "code",
   "execution_count": 20,
   "metadata": {},
   "outputs": [],
   "source": [
    "\n",
    "class LogisticNeuron:\n",
    "    \n",
    "    def __init__(self):\n",
    "        self.w = None\n",
    "        self.b = None\n",
    "\n",
    "    def forpass(self, x):\n",
    "        z = np.sum(x * self.w) + self.b  # 직선 방정식을 계산합니다\n",
    "        return z\n",
    "\n",
    "    def backprop(self, x, err):\n",
    "        w_grad = x * err    # 가중치에 대한 그래디언트를 계산합니다\n",
    "        b_grad = 1 * err    # 절편에 대한 그래디언트를 계산합니다\n",
    "        return w_grad, b_grad\n",
    "\n",
    "    def activation(self, z):\n",
    "        z = np.clip(z, -100, None) # 안전한 np.exp() 계산을 위해\n",
    "        a = 1 / (1 + np.exp(-z))  # 시그모이드 계산\n",
    "        return a\n",
    "        \n",
    "    def fit(self, x, y, epochs=100):\n",
    "        self.w = np.ones(x.shape[1])      # 가중치를 초기화합니다.\n",
    "        self.b = 0                        # 절편을 초기화합니다.\n",
    "        print(x.shape[1])\n",
    "        for i in range(epochs):           # epochs만큼 반복합니다\n",
    "            for x_i, y_i in zip(x, y):    # 모든 샘플에 대해 반복합니다\n",
    "                z = self.forpass(x_i)     # 정방향 계산\n",
    "                a = self.activation(z)    # 활성화 함수 적용\n",
    "                err = (y_i - a)          # 오차 계산\n",
    "                w_grad, b_grad = self.backprop(x_i, err) # 역방향 계산\n",
    "                self.w += w_grad          # 가중치 업데이트\n",
    "                self.b += b_grad          # 절편 업데이트\n",
    "    \n",
    "    def predict(self, x):\n",
    "        z = [self.forpass(x_i) for x_i in x]    # 정방향 계산\n",
    "        a = self.activation(np.array(z))        # 활성화 함수 적용\n",
    "        return a >= 0.5"
   ]
  },
  {
   "cell_type": "code",
   "execution_count": 21,
   "metadata": {},
   "outputs": [
    {
     "name": "stdout",
     "output_type": "stream",
     "text": [
      "30\n"
     ]
    }
   ],
   "source": [
    "neuron = LogisticNeuron()\n",
    "neuron.fit(x_train, y_train)"
   ]
  },
  {
   "cell_type": "code",
   "execution_count": 22,
   "metadata": {},
   "outputs": [
    {
     "data": {
      "text/plain": [
       "0.8245614035087719"
      ]
     },
     "execution_count": 22,
     "metadata": {},
     "output_type": "execute_result"
    }
   ],
   "source": [
    "np.mean(neuron.predict(x_test) == y_test)"
   ]
  },
  {
   "cell_type": "code",
   "execution_count": null,
   "metadata": {},
   "outputs": [],
   "source": []
  }
 ],
 "metadata": {
  "kernelspec": {
   "display_name": "Python 3",
   "language": "python",
   "name": "python3"
  },
  "language_info": {
   "codemirror_mode": {
    "name": "ipython",
    "version": 3
   },
   "file_extension": ".py",
   "mimetype": "text/x-python",
   "name": "python",
   "nbconvert_exporter": "python",
   "pygments_lexer": "ipython3",
   "version": "3.7.6"
  }
 },
 "nbformat": 4,
 "nbformat_minor": 4
}
